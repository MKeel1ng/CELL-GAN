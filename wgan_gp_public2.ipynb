{
  "nbformat": 4,
  "nbformat_minor": 0,
  "metadata": {
    "colab": {
      "name": "wgan_gp_public2",
      "provenance": [],
      "collapsed_sections": [],
      "machine_shape": "hm",
      "include_colab_link": true
    },
    "kernelspec": {
      "display_name": "Python 3",
      "language": "python",
      "name": "python3"
    },
    "language_info": {
      "codemirror_mode": {
        "name": "ipython",
        "version": 3
      },
      "file_extension": ".py",
      "mimetype": "text/x-python",
      "name": "python",
      "nbconvert_exporter": "python",
      "pygments_lexer": "ipython3",
      "version": "3.7.0"
    },
    "accelerator": "GPU"
  },
  "cells": [
    {
      "cell_type": "markdown",
      "metadata": {
        "id": "view-in-github",
        "colab_type": "text"
      },
      "source": [
        "<a href=\"https://colab.research.google.com/github/MKeel1ng/CELL-GAN/blob/master/wgan_gp_public2.ipynb\" target=\"_parent\"><img src=\"https://colab.research.google.com/assets/colab-badge.svg\" alt=\"Open In Colab\"/></a>"
      ]
    },
    {
      "cell_type": "markdown",
      "metadata": {
        "colab_type": "text",
        "id": "TNQqsXam395q"
      },
      "source": [
        "Based on: \n",
        "\n",
        "# WGAN-GP overriding `Model.train_step`\n",
        "\n",
        "**Original Author:** [A_K_Nain](https://twitter.com/A_K_Nain)<br>\n",
        "**Date created:** 2020/05/9<br>\n",
        "**Last modified:** 2020/05/9<br>\n",
        "**Description:** Implementation of Wasserstein GAN with Gradient Penalty."
      ]
    },
    {
      "cell_type": "markdown",
      "metadata": {
        "colab_type": "text",
        "id": "L-EYThMi395u"
      },
      "source": [
        "## Wasserstein GAN (WGAN) with Gradient Penalty (GP)\n",
        "\n",
        "The original [Wasserstein GAN](https://arxiv.org/abs/1701.07875) leverages\n",
        "the Wasserstein distance to produce a value function that has better theoretical\n",
        "properties than the value function used in the original GAN paper. WGAN requires that\n",
        "the discriminator (aka the critic) lie within the space of 1-Lipschitz functions.\n",
        "The authors proposed the idea of weight clipping to achieve this constraint. Though\n",
        "weight clipping works, it can be a problematic way to enforce 1-Lipschitz constraint\n",
        "and can cause undesirable behavior, e.g. a very deep WGAN discriminator (critic)\n",
        "often fails to converge.\n",
        "\n",
        "[WGAN-GP](https://arxiv.org/pdf/1704.00028.pdf) proposed an alternative to weight\n",
        "clipping to ensure smooth training. Instead of clipping the weights, the authors\n",
        "proposed a \"gradient penalty\": adding a loss term that keeps the L2\n",
        "norm of the discriminator gradients close to 1.\n"
      ]
    },
    {
      "cell_type": "markdown",
      "metadata": {
        "colab_type": "text",
        "id": "sVr6PgzF395w"
      },
      "source": [
        "## Setup\n"
      ]
    },
    {
      "cell_type": "code",
      "metadata": {
        "colab_type": "code",
        "id": "vzOGtJjI395z",
        "colab": {}
      },
      "source": [
        "import numpy as np\n",
        "import tensorflow as tf\n",
        "from tensorflow import keras\n",
        "from tensorflow.keras import layers\n",
        "\n"
      ],
      "execution_count": null,
      "outputs": []
    },
    {
      "cell_type": "code",
      "metadata": {
        "id": "5suhdayZ4LrB",
        "colab_type": "code",
        "colab": {
          "base_uri": "https://localhost:8080/",
          "height": 35
        },
        "outputId": "99667328-c36f-4114-9ca3-08f93b699841"
      },
      "source": [
        "from google.colab import drive\n",
        "drive.mount('/content/drive')"
      ],
      "execution_count": null,
      "outputs": [
        {
          "output_type": "stream",
          "text": [
            "Drive already mounted at /content/drive; to attempt to forcibly remount, call drive.mount(\"/content/drive\", force_remount=True).\n"
          ],
          "name": "stdout"
        }
      ]
    },
    {
      "cell_type": "markdown",
      "metadata": {
        "colab_type": "text",
        "id": "Js3O1BcL396A"
      },
      "source": [
        "## Prepare Data\n",
        "\n",
        "Save images as a numpy file at the desired resolution. At this stage, also create a 'val' and'model' subfolder to save progress images and model respectively\n"
      ]
    },
    {
      "cell_type": "code",
      "metadata": {
        "colab_type": "code",
        "id": "Wh6de1xO396B",
        "colab": {
          "base_uri": "https://localhost:8080/",
          "height": 35
        },
        "outputId": "6366ad62-8aa3-4018-9e5f-057f1ccfc71d"
      },
      "source": [
        "scale=7 #ie 5 for 32x32, 6 fore 64x64, 7 for 128x128, 8 for 256x256 and so on\n",
        "\n",
        "#option for greyscale images is'BW', 3-channel: 'RGB'\n",
        "color='RGB'\n",
        "if color=='BW':\n",
        "  channels=1\n",
        "elif color=='RGB':\n",
        "  channels=3 \n",
        "\n",
        "IMG_SHAPE = (2**scale, 2**scale, channels)\n",
        "print(IMG_SHAPE)\n",
        "#Folder where cell images are located\n",
        "content='/content/drive/My Drive/...'\n",
        "\n"
      ],
      "execution_count": null,
      "outputs": [
        {
          "output_type": "stream",
          "text": [
            "(128, 128, 1)\n"
          ],
          "name": "stdout"
        }
      ]
    },
    {
      "cell_type": "code",
      "metadata": {
        "id": "0wXyvYhF8O6q",
        "colab_type": "code",
        "colab": {}
      },
      "source": [
        "#use if images are spread across subfolders\n",
        "\n",
        "import os\n",
        "clean_names=[]\n",
        "for path, subdirs, files in os.walk(content):\n",
        "    for name in files:\n",
        "        clean_names.append(os.path.join(path, name))"
      ],
      "execution_count": null,
      "outputs": []
    },
    {
      "cell_type": "code",
      "metadata": {
        "id": "cA8GLernlYWp",
        "colab_type": "code",
        "colab": {
          "base_uri": "https://localhost:8080/",
          "height": 35
        },
        "outputId": "e20606ea-d45a-45ce-aa01-8c1c2aa67713"
      },
      "source": [
        "#use if images in same folder\n",
        "#get list of images, token is used to clean up any unwanted images. In my case all cell images begin with 'c', other images in folder are ignored\n",
        "\n",
        "import os\n",
        "n = os.listdir(content)\n",
        "token='t'\n",
        "clean_names=[name for name in n if name[0]==token]\n",
        "print(len(clean_names))\n"
      ],
      "execution_count": null,
      "outputs": [
        {
          "output_type": "stream",
          "text": [
            "3\n"
          ],
          "name": "stdout"
        }
      ]
    },
    {
      "cell_type": "code",
      "metadata": {
        "id": "cdYvvp488eb3",
        "colab_type": "code",
        "colab": {}
      },
      "source": [
        "resolution=IMG_SHAPE[0]"
      ],
      "execution_count": null,
      "outputs": []
    },
    {
      "cell_type": "markdown",
      "metadata": {
        "id": "qQCbVQQMIwzm",
        "colab_type": "text"
      },
      "source": [
        "##Augment data\n",
        "\n",
        "Flip the cells about each axis, get's 4x as much data. "
      ]
    },
    {
      "cell_type": "code",
      "metadata": {
        "id": "Ghk-XIgOqqfK",
        "colab_type": "code",
        "colab": {}
      },
      "source": [
        "from google.colab.patches import cv2_imshow\n",
        "import cv2\n",
        "\n",
        "\n",
        "augment=True\n",
        "if augment==True:\n",
        "  mult=4\n",
        "else:\n",
        "  mult=1\n",
        "\n",
        "resolution=IMG_SHAPE[0]\n",
        "\n",
        "ims=np.zeros((len(clean_names)*mult, resolution, resolution,channels)).astype('float32')\n",
        "count=0\n",
        "\n",
        "for i,im in enumerate(clean_names):\n",
        "  \n",
        "  im=cv2.imread(im)\n",
        "  #cv2_imshow(im)\n",
        "  im=cv2.resize(im,(resolution,resolution))\n",
        "  if color=='BW':\n",
        "    im=np.expand_dims(im[:,:,0],-1)\n",
        "\n",
        "  ims[count,:,:,:]=im\n",
        "\n",
        "  count+=1\n",
        "  if augment==True:\n",
        "    ims[count,:,:,:]=cv2.flip(im, -1)\n",
        "    count+=1\n",
        "\n",
        "    ims[count,:,:,:]=cv2.flip(im, 1)\n",
        "    count+=1\n",
        "\n",
        "    ims[count,:,:,:]=cv2.flip(im, 0)\n",
        "    count+=1\n",
        "\n",
        "  #keep track of progress - it can take a while\n",
        "  print(count/(len(clean_names)*mult)*100)\n",
        "\n",
        "np.save(content+'ims_'+str(resolution)+'x',ims)"
      ],
      "execution_count": null,
      "outputs": []
    },
    {
      "cell_type": "code",
      "metadata": {
        "id": "CGcKznCd4TNr",
        "colab_type": "code",
        "colab": {
          "base_uri": "https://localhost:8080/",
          "height": 547
        },
        "outputId": "e23d5086-84cd-4753-dfc5-893f938fbd85"
      },
      "source": [
        "#check data\n",
        "\n",
        "from google.colab.patches import cv2_imshow\n",
        "\n",
        "train_images=np.load(content+'ims_'+str(resolution)+'x.npy')\n",
        "cv2_imshow(train_images[0,:,:,:])\n",
        "cv2_imshow(train_images[1,:,:,:])\n",
        "cv2_imshow(train_images[2,:,:,:])\n",
        "cv2_imshow(train_images[3,:,:,:])\n",
        "print(train_images.shape)"
      ],
      "execution_count": null,
      "outputs": [
        {
          "output_type": "display_data",
          "data": {
            "image/png": "[encoded data removed]",
            "text/plain": [
              "<PIL.Image.Image image mode=RGB size=128x128 at 0x7F321756CC50>"
            ]
          },
          "metadata": {
            "tags": []
          }
        },
        {
          "output_type": "display_data",
          "data": {
            "image/png": "[encoded data removed]",
            "text/plain": [
              "<PIL.Image.Image image mode=RGB size=128x128 at 0x7F326789B128>"
            ]
          },
          "metadata": {
            "tags": []
          }
        },
        {
          "output_type": "display_data",
          "data": {
            "image/png": "[encoded data removed]",
            "text/plain": [
              "<PIL.Image.Image image mode=RGB size=128x128 at 0x7F321756CDA0>"
            ]
          },
          "metadata": {
            "tags": []
          }
        },
        {
          "output_type": "display_data",
          "data": {
            "image/png": "[encoded data removed]",
            "text/plain": [
              "<PIL.Image.Image image mode=RGB size=128x128 at 0x7F321756CC50>"
            ]
          },
          "metadata": {
            "tags": []
          }
        },
        {
          "output_type": "stream",
          "text": [
            "(400, 128, 128, 1)\n"
          ],
          "name": "stdout"
        }
      ]
    },
    {
      "cell_type": "markdown",
      "metadata": {
        "id": "v9vcJXDEKker",
        "colab_type": "text"
      },
      "source": [
        "##Set up model"
      ]
    },
    {
      "cell_type": "markdown",
      "metadata": {
        "id": "o21f-guSKqfy",
        "colab_type": "text"
      },
      "source": [
        "**1: SELF ATTENTION lAYER**"
      ]
    },
    {
      "cell_type": "code",
      "metadata": {
        "id": "g8Jmn5_3_G3K",
        "colab_type": "code",
        "colab": {}
      },
      "source": [
        "from keras import backend as K\n",
        "from keras.engine.topology import Layer\n",
        "\n",
        "class Attention(Layer):\n",
        "    def __init__(self, ch, **kwargs):\n",
        "        super(Attention, self).__init__(**kwargs)\n",
        "        self.channels = ch\n",
        "        self.filters_f_g = self.channels // 8\n",
        "        self.filters_h = self.channels\n",
        "\n",
        "    def build(self, input_shape):\n",
        "        kernel_shape_f_g = (1, 1) + (self.channels, self.filters_f_g)\n",
        "        print(kernel_shape_f_g)\n",
        "        kernel_shape_h = (1, 1) + (self.channels, self.filters_h)\n",
        "\n",
        "        # Create a trainable weight variable for this layer:\n",
        "        self.gamma = self.add_weight(name='gamma', shape=[1], initializer='zeros', trainable=True)\n",
        "        self.kernel_f = self.add_weight(shape=kernel_shape_f_g,\n",
        "                                        initializer='glorot_uniform',\n",
        "                                        name='kernel_f')\n",
        "        self.kernel_g = self.add_weight(shape=kernel_shape_f_g,\n",
        "                                        initializer='glorot_uniform',\n",
        "                                        name='kernel_g')\n",
        "        self.kernel_h = self.add_weight(shape=kernel_shape_h,\n",
        "                                        initializer='glorot_uniform',\n",
        "                                        name='kernel_h')\n",
        "        self.bias_f = self.add_weight(shape=(self.filters_f_g,),\n",
        "                                      initializer='zeros',\n",
        "                                      name='bias_F')\n",
        "        self.bias_g = self.add_weight(shape=(self.filters_f_g,),\n",
        "                                      initializer='zeros',\n",
        "                                      name='bias_g')\n",
        "        self.bias_h = self.add_weight(shape=(self.filters_h,),\n",
        "                                      initializer='zeros',\n",
        "                                      name='bias_h')\n",
        "        super(Attention, self).build(input_shape)\n",
        "        # Set input spec.\n",
        "        self.input_spec = tf.keras.layers.InputSpec(ndim=4,\n",
        "                                    axes={3: input_shape[-1]})\n",
        "        self.built = True\n",
        "\n",
        "\n",
        "    def call(self, x):\n",
        "        def hw_flatten(x):\n",
        "            return K.reshape(x, shape=[K.shape(x)[0], K.shape(x)[1]*K.shape(x)[2], K.shape(x)[-1]])\n",
        "\n",
        "        f = K.conv2d(x,\n",
        "                     kernel=self.kernel_f,\n",
        "                     strides=(1, 1), padding='same')  # [bs, h, w, c']\n",
        "        f = K.bias_add(f, self.bias_f)\n",
        "        g = K.conv2d(x,\n",
        "                     kernel=self.kernel_g,\n",
        "                     strides=(1, 1), padding='same')  # [bs, h, w, c']\n",
        "        g = K.bias_add(g, self.bias_g)\n",
        "        h = K.conv2d(x,\n",
        "                     kernel=self.kernel_h,\n",
        "                     strides=(1, 1), padding='same')  # [bs, h, w, c]\n",
        "        h = K.bias_add(h, self.bias_h)\n",
        "\n",
        "        s = tf.matmul(hw_flatten(g), hw_flatten(f), transpose_b=True)  # # [bs, N, N]\n",
        "\n",
        "        beta = K.softmax(s, axis=-1)  # attention map\n",
        "\n",
        "        o = K.batch_dot(beta, hw_flatten(h))  # [bs, N, C]\n",
        "\n",
        "        o = K.reshape(o, shape=K.shape(x))  # [bs, h, w, C]\n",
        "        x = self.gamma * o + x\n",
        "\n",
        "        return x\n",
        "\n",
        "    def compute_output_shape(self, input_shape):\n",
        "        return input_shape"
      ],
      "execution_count": null,
      "outputs": []
    },
    {
      "cell_type": "markdown",
      "metadata": {
        "colab_type": "text",
        "id": "b2WoknJR396K"
      },
      "source": [
        "## Create the discriminator (aka critic in the original WGAN)\n",
        "\n"
      ]
    },
    {
      "cell_type": "code",
      "metadata": {
        "colab_type": "code",
        "id": "pFHxuipf396L",
        "colab": {}
      },
      "source": [
        "from keras.regularizers import l2\n",
        "def conv_block(\n",
        "    x,\n",
        "    filters,\n",
        "    kernel_size=(3, 3),\n",
        "    strides=(1, 1),\n",
        "    padding=\"same\",\n",
        "    use_bias=True,\n",
        "    drop_value=0.3,\n",
        "    up_scale=True,\n",
        "    res_blocks=False,\n",
        "    wd=0.001\n",
        "   ):\n",
        "\n",
        "    if res_blocks==True:\n",
        "      scut=tf.keras.layers.AvgPool2D((2,2))(x)\n",
        "\n",
        "      if up_scale==True:\n",
        "        scut=layers.Conv2D(filters, kernel_size=(1,1), strides=(1,1), kernel_regularizer=l2(wd), padding=padding, use_bias=use_bias)(scut)\n",
        "\n",
        "      #scut = layers.LeakyReLU(0.2)(scut)\n",
        "\n",
        "    x = layers.Conv2D(filters, kernel_size, strides=(2,2), kernel_regularizer=l2(wd), padding=padding, use_bias=use_bias)(x)\n",
        "    x = layers.LeakyReLU(0.2)(x)\n",
        "\n",
        "    x = layers.Conv2D(filters, kernel_size, strides=(1,1), kernel_regularizer=l2(wd), padding=padding, use_bias=use_bias)(x)\n",
        "    x = layers.LeakyReLU(0.2)(x)\n",
        "    x = layers.Dropout(drop_value)(x)\n",
        "    x = layers.Conv2D(filters, kernel_size, strides=(1,1), kernel_regularizer=l2(wd), padding=padding, use_bias=use_bias)(x)\n",
        "\n",
        "    \n",
        "\n",
        "    if res_blocks==True:\n",
        "     x= x+scut\n",
        "\n",
        "    x = layers.LeakyReLU(0.2)(x)\n",
        "    x = layers.Dropout(drop_value)(x)\n",
        "    \n",
        "    return x\n",
        "\n",
        "\n",
        "def get_discriminator_model(base_filters=64,res_blocks=False,self_attention=False,self_attention_layer=4,scale=6,channels=3,wd=0.001):\n",
        "    img_input = layers.Input(shape=(2**scale, 2**scale, channels))\n",
        "    x = layers.Conv2D(base_filters, (3,3), strides=(1,1), kernel_regularizer=l2(wd), padding=\"same\",  use_bias=True)(img_input)\n",
        "    x = layers.LeakyReLU(0.2)(x)\n",
        "\n",
        "\n",
        "    x = conv_block(x,base_filters,up_scale=False,res_blocks=res_blocks,wd=wd)\n",
        "\n",
        "    for i in range(scale-3):\n",
        "      base_filters*=2\n",
        "      x = conv_block(x,base_filters,res_blocks=res_blocks,wd=wd)\n",
        "      \n",
        "      if self_attention==True and i ==self_attention_layer-3:\n",
        "        x=Attention(int(base_filters))(x)\n",
        "\n",
        "\n",
        "\n",
        "\n",
        "\n",
        "\n",
        "    x = layers.Conv2D(1, kernel_size=(4,4), strides=(1,1))(x)\n",
        "\n",
        "    d_model = keras.models.Model(img_input, x, name=\"discriminator\")\n",
        "    return d_model\n"
      ],
      "execution_count": null,
      "outputs": []
    },
    {
      "cell_type": "markdown",
      "metadata": {
        "colab_type": "text",
        "id": "8x0gWTFP396R"
      },
      "source": [
        "## Create the generator\n"
      ]
    },
    {
      "cell_type": "code",
      "metadata": {
        "colab_type": "code",
        "id": "watXkENT396S",
        "colab": {}
      },
      "source": [
        "\n",
        "\n",
        "def upsample_block(\n",
        "    x,\n",
        "    filters,\n",
        "    kernel_size=(3, 3),\n",
        "    padding=\"same\",\n",
        "    use_bias=True,\n",
        "    res_blocks=False,\n",
        "    wd=0.001\n",
        "):\n",
        "\n",
        "    x = layers.UpSampling2D(size=(2, 2),interpolation='bilinear')(x)\n",
        "\n",
        "    if res_blocks==True:\n",
        "      sc=layers.Conv2D(filters, kernel_size=(1,1) ,strides=(1,1),kernel_regularizer=l2(wd), padding=padding, use_bias=use_bias)(x)\n",
        "      sc = layers.BatchNormalization()(sc)\n",
        "      #sc = layers.LeakyReLU(0.2)(sc)\n",
        "\n",
        "\n",
        "    x = layers.Conv2D(filters, kernel_size ,strides=(1,1),kernel_regularizer=l2(wd), padding=padding, use_bias=use_bias)(x)\n",
        "    x = layers.BatchNormalization()(x)\n",
        "    x = layers.LeakyReLU(0.2)(x)\n",
        "\n",
        "    x = layers.Conv2D(filters, kernel_size ,strides=(1,1),kernel_regularizer=l2(wd), padding=padding, use_bias=use_bias)(x)\n",
        "    x = layers.BatchNormalization()(x)\n",
        "    #x = layers.LeakyReLU(0.2)(x)\n",
        "\n",
        "    if res_blocks==True:\n",
        "       x=x+sc\n",
        "\n",
        "    x = layers.LeakyReLU(0.2)(x)\n",
        "    return x\n",
        "\n",
        "\n",
        "def upsample_block_final(\n",
        "    x,\n",
        "    filters,\n",
        "    kernel_size=(3, 3),\n",
        "    padding=\"same\",\n",
        "    use_bias=True,\n",
        "    res_blocks=False,\n",
        "    activation=None,\n",
        "    channels=3,\n",
        "    wd=0.001\n",
        "):\n",
        "\n",
        "    if res_blocks==True:\n",
        "      sc=layers.Conv2D(filters, kernel_size=(1,1) ,strides=(1,1),kernel_regularizer=l2(wd), padding=padding, use_bias=use_bias)(x)\n",
        "      sc = layers.BatchNormalization()(sc)\n",
        "      \n",
        "\n",
        "\n",
        "    x = layers.Conv2D(filters, kernel_size,strides=(1,1), kernel_regularizer=l2(wd), padding=padding, use_bias=use_bias)(x)\n",
        "    x = layers.BatchNormalization()(x)\n",
        "    x = layers.LeakyReLU(0.2)(x)\n",
        "\n",
        "    x = layers.Conv2D(filters, kernel_size,strides=(1,1), kernel_regularizer=l2(wd), padding=padding, use_bias=use_bias)(x)\n",
        "    x = layers.BatchNormalization()(x)\n",
        "    \n",
        "\n",
        "    if res_blocks==True:\n",
        "      x=x+sc\n",
        "    x = layers.LeakyReLU(0.2)(x)\n",
        "\n",
        "    x = layers.Conv2D(channels, kernel_size ,strides=(1,1), padding=padding, kernel_regularizer=l2(wd),use_bias=use_bias)(x)\n",
        "    #x = layers.BatchNormalization()(x)\n",
        "    if activation=='LeakyReLU':\n",
        "      x = layers.LeakyReLU(0.2)(x)\n",
        "    elif activation=='tanh':\n",
        "      x = tf.keras.activations.tanh(x)\n",
        "\n",
        "    return x\n",
        "\n",
        "\n",
        "def get_generator_model(base_filters=64,res_blocks=False,self_attention=False,self_attention_layer=4,scale=6,channels=3,noise_dim=128,activation='None',wd=0.001):\n",
        "    noise = layers.Input(shape=(noise_dim,))\n",
        "    x = layers.Dense(4 * 4 * 256, use_bias=False)(noise)\n",
        "    x = layers.BatchNormalization()(x)\n",
        "    x = layers.LeakyReLU(0.2)(x)\n",
        "    x = layers.Reshape((4, 4, 256))(x)\n",
        "\n",
        "    base_filters=base_filters*32\n",
        "    for i in range(scale-2):\n",
        "      base_filters/=2\n",
        "      x = upsample_block(x,base_filters,res_blocks=res_blocks,wd=wd)\n",
        "      \n",
        "      if self_attention==True and i ==self_attention_layer-1:\n",
        "        x=Attention(int(base_filters))(x)\n",
        "\n",
        "\n",
        "\n",
        "    x = upsample_block_final(x,base_filters/2,res_blocks=res_blocks,activation=activation,channels=channels,wd=wd)\n",
        "\n",
        "\n",
        "    g_model = keras.models.Model(noise, x, name=\"generator\")\n",
        "    return g_model\n"
      ],
      "execution_count": null,
      "outputs": []
    },
    {
      "cell_type": "markdown",
      "metadata": {
        "colab_type": "text",
        "id": "Ci1zMkwa396X"
      },
      "source": [
        "## Create a WGAN-GP model \n",
        "Now that we have defined our generator and discriminator models, we will\n",
        "implement the WGAN-GP model. We will override the `train_step` for training.\n"
      ]
    },
    {
      "cell_type": "code",
      "metadata": {
        "colab_type": "code",
        "id": "Rndh0qrc396Y",
        "colab": {}
      },
      "source": [
        "\n",
        "class WGAN(keras.Model):\n",
        "    def __init__(\n",
        "        self,\n",
        "        discriminator,\n",
        "        generator,\n",
        "        latent_dim,\n",
        "        discriminator_extra_steps=3,\n",
        "        gp_weight=10.0,\n",
        "    ):\n",
        "        super(WGAN, self).__init__()\n",
        "        self.discriminator = discriminator\n",
        "        self.generator = generator\n",
        "        self.latent_dim = latent_dim\n",
        "        self.d_steps = discriminator_extra_steps\n",
        "        self.gp_weight = gp_weight\n",
        "\n",
        "    def compile(self, d_optimizer, g_optimizer, d_loss_fn, g_loss_fn):\n",
        "        super(WGAN, self).compile()\n",
        "        self.d_optimizer = d_optimizer\n",
        "        self.g_optimizer = g_optimizer\n",
        "        self.d_loss_fn = d_loss_fn\n",
        "        self.g_loss_fn = g_loss_fn\n",
        "\n",
        "    def gradient_penalty(self, batch_size, real_images, fake_images):\n",
        "        \"\"\" Calculates the gradient penalty.\n",
        "\n",
        "        This loss is calculated on an interpolated image\n",
        "        and added to the discriminator loss.\n",
        "        \"\"\"\n",
        "        # get the interplated image\n",
        "        alpha = tf.random.normal([batch_size, 1, 1, 1], 0.0, 1.0)\n",
        "        diff = fake_images - real_images\n",
        "        interpolated = real_images + alpha * diff\n",
        "\n",
        "        with tf.GradientTape() as gp_tape:\n",
        "            gp_tape.watch(interpolated)\n",
        "            # 1. Get the discriminator output for this interpolated image.\n",
        "            pred = self.discriminator(interpolated, training=True)\n",
        "\n",
        "        # 2. Calculate the gradients w.r.t to this interpolated image.\n",
        "        grads = gp_tape.gradient(pred, [interpolated])[0]\n",
        "        # 3. Calcuate the norm of the gradients\n",
        "        norm = tf.sqrt(tf.reduce_sum(tf.square(grads), axis=[1, 2, 3]))\n",
        "        gp = tf.reduce_mean((norm - 1.0) ** 2)\n",
        "        return gp\n",
        "\n",
        "    def train_step(self, real_images):\n",
        "        if isinstance(real_images, tuple):\n",
        "            real_images = real_images[0]\n",
        "\n",
        "        # Get the batch size\n",
        "        batch_size = tf.shape(real_images)[0]\n",
        "\n",
        "        # For each batch, we are going to perform the\n",
        "        # following steps as laid out in the original paper.\n",
        "        # 1. Train the generator and get the generator loss\n",
        "        # 2. Train the discriminator and get the discriminator loss\n",
        "        # 3. Calculate the gradient penalty\n",
        "        # 4. Multiply this gradient penalty with a constant weight factor\n",
        "        # 5. Add gradient penalty to the discriminator loss\n",
        "        # 6. Return generator and discriminator losses as a loss dictionary.\n",
        "\n",
        "        # Train discriminator first. The original paper recommends training\n",
        "        # the discriminator for `x` more steps (typically 5) as compared to\n",
        "        # one step of the generator. Here we will train it for 3 extra steps\n",
        "        # as compared to 5 to reduce the training time.\n",
        "        for i in range(self.d_steps):\n",
        "            # Get the latent vector\n",
        "            random_latent_vectors = tf.random.normal(\n",
        "                shape=(batch_size, self.latent_dim)\n",
        "            )\n",
        "            with tf.GradientTape() as tape:\n",
        "                # Generate fake images from the latent vector\n",
        "                fake_images = self.generator(random_latent_vectors, training=True)\n",
        "                # Get the logits for the fake images\n",
        "                fake_logits = self.discriminator(fake_images, training=True)\n",
        "                # Get the logits for real images\n",
        "                real_logits = self.discriminator(real_images, training=True)\n",
        "\n",
        "                # Calculate discriminator loss using fake and real logits\n",
        "                d_cost = self.d_loss_fn(real_img=real_logits, fake_img=fake_logits)\n",
        "                # Calculate the gradient penalty\n",
        "                gp = self.gradient_penalty(batch_size, real_images, fake_images)\n",
        "                # Add the gradient penalty to the original discriminator loss\n",
        "                d_loss = d_cost + gp * self.gp_weight\n",
        "\n",
        "            # Get the gradients w.r.t the discriminator loss\n",
        "            d_gradient = tape.gradient(d_loss, self.discriminator.trainable_variables)\n",
        "            # Update the weights of the discriminator using the discriminator optimizer\n",
        "            self.d_optimizer.apply_gradients(\n",
        "                zip(d_gradient, self.discriminator.trainable_variables)\n",
        "            )\n",
        "\n",
        "        # Train the generator now.\n",
        "        # Get the latent vector\n",
        "        random_latent_vectors = tf.random.normal(shape=(batch_size, self.latent_dim))\n",
        "        with tf.GradientTape() as tape:\n",
        "            # Generate fake images using the generator\n",
        "            generated_images = self.generator(random_latent_vectors, training=True)\n",
        "            # Get the discriminator logits for fake images\n",
        "            gen_img_logits = self.discriminator(generated_images, training=True)\n",
        "            # Calculate the generator loss\n",
        "            g_loss = self.g_loss_fn(gen_img_logits)\n",
        "\n",
        "        # Get the gradients w.r.t the generator loss\n",
        "        gen_gradient = tape.gradient(g_loss, self.generator.trainable_variables)\n",
        "        # Update the weights of the generator using the generator optimizer\n",
        "        self.g_optimizer.apply_gradients(\n",
        "            zip(gen_gradient, self.generator.trainable_variables)\n",
        "        )\n",
        "        return {\"d_loss\": d_loss, \"g_loss\": g_loss}\n",
        "\n"
      ],
      "execution_count": null,
      "outputs": []
    },
    {
      "cell_type": "markdown",
      "metadata": {
        "colab_type": "text",
        "id": "Slt0ZT6m396l"
      },
      "source": [
        "## Create a callback that periodically saves generated images\n",
        "\n",
        "Makes a 5 by 5 tiled grid. By feeding it the same noise you see the evolution of the model on the same images. Set up a 'val' folder"
      ]
    },
    {
      "cell_type": "code",
      "metadata": {
        "colab_type": "code",
        "id": "8AiLdjkH396m",
        "colab": {}
      },
      "source": [
        "from google.colab.patches import cv2_imshow\n",
        "from PIL import Image\n",
        "\n",
        "\n",
        "def concat_tile(im_list_2d):\n",
        "    return cv2.vconcat([cv2.hconcat(im_list_h) for im_list_h in im_list_2d])\n",
        "\n",
        "class GANMonitor(keras.callbacks.Callback):\n",
        "    def __init__(self, num_img, random_latent_vectors,activation):\n",
        "        self.num_img = num_img\n",
        "        self.random_latent_vectors = random_latent_vectors\n",
        "        self.activation=activation\n",
        "\n",
        "    def on_epoch_end(self, epoch, logs=None):\n",
        "        #random_latent_vectors = tf.random.normal(shape=(self.num_img, self.latent_dim))\n",
        "        generated_images = self.model.generator(self.random_latent_vectors)\n",
        "        if self.activation=='LeakyReLU':\n",
        "          generated_images = (generated_images * 255)\n",
        "        elif  self.activation=='tanh':\n",
        "          generated_images = (generated_images * 127.5)+ 127.5\n",
        "          \n",
        "        \n",
        "\n",
        "        ims=[]\n",
        "        for i in range(self.num_img):\n",
        "            img = generated_images[i].numpy()\n",
        "            #img=append(np.array(keras.preprocessing.image.array_to_img(img)))\n",
        "            #img.save(\"generated_img_{i}_{epoch}.png\".format(i=i, epoch=epoch))\n",
        "            ims.append(np.array(keras.preprocessing.image.array_to_img(img)))\n",
        "        \n",
        "        ims_tiled=concat_tile([[ims[0],ims[1],ims[2],ims[3],ims[4]],\n",
        "                               [ims[5],ims[6],ims[7],ims[8],ims[9]],\n",
        "                               [ims[10],ims[11],ims[12],ims[13],ims[14]],\n",
        "                               [ims[15],ims[16],ims[17],ims[18],ims[19]],\n",
        "                               [ims[20],ims[21],ims[22],ims[23],ims[24]]])\n",
        "        im = Image.fromarray(ims_tiled)\n",
        "        im.save(content+'/val/'+'generated_img_{epoch}.png'.format(epoch=epoch))\n",
        "        cv2_imshow(ims_tiled)\n",
        "\n"
      ],
      "execution_count": null,
      "outputs": []
    },
    {
      "cell_type": "markdown",
      "metadata": {
        "colab_type": "text",
        "id": "zlrvZ1p2396s"
      },
      "source": [
        "## Train the end-to-end model\n"
      ]
    },
    {
      "cell_type": "code",
      "metadata": {
        "colab_type": "code",
        "id": "CbjM3IXf396u",
        "colab": {}
      },
      "source": [
        "import cv2\n",
        "\n",
        "train_images=np.load(content+'ims_'+str(resolution)+'x.npy')\n",
        "cv2_imshow(train_images[0,:,:])\n",
        "cv2_imshow(train_images[1,:,:])\n",
        "cv2_imshow(train_images[2,:,:])\n",
        "cv2_imshow(train_images[3,:,:])\n",
        "print(train_images.shape)\n",
        "\n",
        "# Optimizer for both the networks\n",
        "# learning_rate=0.0002, beta_1=0.5 are recommened\n",
        "generator_optimizer = keras.optimizers.Adam(\n",
        "    learning_rate=0.0002, beta_1=0.5, beta_2=0.9\n",
        ")\n",
        "discriminator_optimizer = keras.optimizers.Adam(\n",
        "    learning_rate=0.0002, beta_1=0.5, beta_2=0.9\n",
        ")\n",
        "\n",
        "# Define the loss functions to be used for discrimiator\n",
        "# This should be (fake_loss - real_loss)\n",
        "# We will add the gradient penalty later to this loss function\n",
        "def discriminator_loss(real_img, fake_img):\n",
        "    real_loss = tf.reduce_mean(real_img)\n",
        "    fake_loss = tf.reduce_mean(fake_img)\n",
        "    return fake_loss - real_loss\n",
        "\n",
        "# Define the loss functions to be used for generator\n",
        "def generator_loss(fake_img):\n",
        "    return -tf.reduce_mean(fake_img)\n",
        "\n",
        "#set activation and corresponding image range\n",
        "activation='tanh'\n",
        "#activation='LeakyReLU'\n",
        "#activation='None'\n",
        "\n",
        "if activation=='tanh':\n",
        "  train_images=(train_images-127.5)/127.5\n",
        "elif activation=='LeakyReLU':\n",
        "  train_images=train_images/255\n",
        "\n",
        "# Training details\n",
        "epochs = 500\n",
        "BATCH_SIZE = 32\n",
        "noise_dim = 128\n",
        "wd=0.001\n",
        "\n",
        "\n",
        "resblocks=True\n",
        "self_attention=True\n",
        "base_filters=64\n",
        "#Models\n",
        "d_model = get_discriminator_model(base_filters=base_filters,res_blocks=resblocks,self_attention=self_attention,scale=scale,channels=channels,wd=wd)\n",
        "g_model = get_generator_model(base_filters=base_filters,res_blocks=resblocks,self_attention=self_attention,scale=scale,noise_dim=noise_dim,activation=activation,channels=channels,wd=wd)\n",
        "\n",
        "# Callbacks\n",
        "num_val_ims=25\n",
        "random_latent_vectors = tf.random.normal((num_val_ims,noise_dim))\n",
        "image_callback = GANMonitor(num_img=num_val_ims,random_latent_vectors=random_latent_vectors,activation=activation)\n",
        "checkpoint_callback=tf.keras.callbacks.ModelCheckpoint(filepath=content+'model/model')\n",
        "\n",
        "# Get the wgan model\n",
        "wgan = WGAN(\n",
        "    discriminator=d_model,\n",
        "    generator=g_model,\n",
        "    latent_dim=noise_dim,\n",
        "    discriminator_extra_steps=3,\n",
        ")\n",
        "\n",
        "# Compile the wgan model\n",
        "wgan.compile(\n",
        "    d_optimizer=discriminator_optimizer,\n",
        "    g_optimizer=generator_optimizer,\n",
        "    g_loss_fn=generator_loss,\n",
        "    d_loss_fn=discriminator_loss,\n",
        ")\n",
        "\n",
        "\n",
        "# Start training\n",
        "wgan.fit(train_images, batch_size=BATCH_SIZE, epochs=epochs, callbacks=[image_callback,checkpoint_callback])\n"
      ],
      "execution_count": null,
      "outputs": []
    },
    {
      "cell_type": "markdown",
      "metadata": {
        "id": "lDQek4MyNCLF",
        "colab_type": "text"
      },
      "source": [
        "##Generate New Images"
      ]
    },
    {
      "cell_type": "markdown",
      "metadata": {
        "id": "t9cA5jBBNUY9",
        "colab_type": "text"
      },
      "source": [
        "Load model"
      ]
    },
    {
      "cell_type": "code",
      "metadata": {
        "id": "S5m52XqxNAde",
        "colab_type": "code",
        "colab": {}
      },
      "source": [
        "wgan.load_weights(content+'.../model')\n"
      ],
      "execution_count": null,
      "outputs": []
    },
    {
      "cell_type": "markdown",
      "metadata": {
        "id": "Fb9hDyRfNYCO",
        "colab_type": "text"
      },
      "source": [
        "Visualise batch of generated images"
      ]
    },
    {
      "cell_type": "code",
      "metadata": {
        "id": "bs4B3_2SNWvT",
        "colab_type": "code",
        "colab": {}
      },
      "source": [
        "num_val_ims=25\n",
        "random_latent_vectors = tf.random.normal((num_val_ims,noise_dim))\n",
        "ans=wgan.generator(random_latent_vectors)\n",
        "\n",
        "\n",
        "ims=np.array(ans)*255\n",
        "#yes, tiling like this is ugly\n",
        "ims_tiled=concat_tile([[ims[0],ims[1],ims[2],ims[3],ims[4]],\n",
        "                        [ims[5],ims[6],ims[7],ims[8],ims[9]],\n",
        "                        [ims[10],ims[11],ims[12],ims[13],ims[14]],\n",
        "                        [ims[15],ims[16],ims[17],ims[18],ims[19]],\n",
        "                        [ims[20],ims[21],ims[22],ims[23],ims[24]]])\n",
        "#Visualise data\n",
        "cv2_imshow(ims_tiled)"
      ],
      "execution_count": null,
      "outputs": []
    },
    {
      "cell_type": "markdown",
      "metadata": {
        "id": "lsdTAzowNeC_",
        "colab_type": "text"
      },
      "source": [
        "Save Some images"
      ]
    },
    {
      "cell_type": "code",
      "metadata": {
        "id": "gg-FdT70NiWD",
        "colab_type": "code",
        "colab": {}
      },
      "source": [
        "num_ims_to_save=100\n",
        "\n",
        "num_val_ims=num_ims_to_save\n",
        "random_latent_vectors = tf.random.normal((num_val_ims,noise_dim))\n",
        "ans=wgan.generator(random_latent_vectors)\n",
        "\n",
        "\n",
        "ims=np.array(ans)*255\n",
        "\n",
        "for i,frame in enumerate(ims):\n",
        "  #im = Image.fromarray(frame)\n",
        "\n",
        "  cv2_imshow(frame)\n",
        "  cv2.imwrite(content...+'generated_img_{i}.png'.format(i=i),frame)\n",
        "\n"
      ],
      "execution_count": null,
      "outputs": []
    }
  ]
}